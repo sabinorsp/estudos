{
 "cells": [
  {
   "cell_type": "markdown",
   "id": "e1c7daac",
   "metadata": {},
   "source": [
    "Esse notebook contem algumas experimentações sobre o pacote skikit-llm: https://github.com/iryna-kondr/scikit-llm"
   ]
  },
  {
   "cell_type": "code",
   "execution_count": 1,
   "id": "092ac177",
   "metadata": {},
   "outputs": [],
   "source": [
    "# Importanto pacotes\n",
    "import os\n",
    "import random\n",
    "\n",
    "from skllm.config import SKLLMConfig\n",
    "from dotenv import load_dotenv\n",
    "\n",
    "from skllm import ZeroShotGPTClassifier\n",
    "from skllm.datasets import get_classification_dataset\n",
    "\n",
    "from sklearn.metrics import  accuracy_score"
   ]
  },
  {
   "cell_type": "code",
   "execution_count": 2,
   "id": "16831711",
   "metadata": {},
   "outputs": [],
   "source": [
    "#Configurando API KEY pelo ambiente:\n",
    "load_dotenv()\n",
    "SKLLMConfig.set_openai_key(os.getenv(\"OPENAI_API_KEY\"))"
   ]
  },
  {
   "cell_type": "markdown",
   "id": "ee1017aa",
   "metadata": {},
   "source": [
    "## Zero Shot GPTClassifier\n",
    "Classificador de sentimentos"
   ]
  },
  {
   "cell_type": "code",
   "execution_count": 93,
   "id": "1f56d2f5",
   "metadata": {},
   "outputs": [],
   "source": [
    "# Carregando o dataset default \n",
    "X,y = get_classification_dataset()"
   ]
  },
  {
   "cell_type": "code",
   "execution_count": 20,
   "id": "eb4d8830",
   "metadata": {},
   "outputs": [
    {
     "data": {
      "text/plain": [
       "30"
      ]
     },
     "execution_count": 20,
     "metadata": {},
     "output_type": "execute_result"
    }
   ],
   "source": [
    "len(X)"
   ]
  },
  {
   "cell_type": "code",
   "execution_count": 14,
   "id": "7f3e679d",
   "metadata": {
    "scrolled": false
   },
   "outputs": [
    {
     "data": {
      "text/plain": [
       "[\"I found 'After the Rain' to be pretty average. The plot was okay and the performances were decent, but it didn't leave a lasting impression on me.\",\n",
       " \"'The Darkened Path' was a disaster. The storyline was unoriginal, the acting was wooden and the special effects were laughably bad. Save your money and skip this one.\",\n",
       " \"I thought 'The Scent of Roses' was pretty average. The plot was somewhat engaging, and the performances were okay, but it didn't live up to my expectations.\",\n",
       " \"I was thoroughly disappointed with 'Silver Shadows'. The plot was confusing and the performances were lackluster. I wouldn't recommend wasting your time on this one.\",\n",
       " \"The screenwriting in 'Under the Willow Tree' was superb. The dialogue felt real and the characters were well-rounded. The performances were also fantastic. I haven't enjoyed a movie this much in a while.\"]"
      ]
     },
     "execution_count": 14,
     "metadata": {},
     "output_type": "execute_result"
    }
   ],
   "source": [
    "random.sample(X, 5)"
   ]
  },
  {
   "cell_type": "code",
   "execution_count": 15,
   "id": "7d6ae7fd",
   "metadata": {},
   "outputs": [
    {
     "data": {
      "text/plain": [
       "['neutral', 'positive', 'negative', 'negative', 'neutral']"
      ]
     },
     "execution_count": 15,
     "metadata": {},
     "output_type": "execute_result"
    }
   ],
   "source": [
    "random.sample(y,5)"
   ]
  },
  {
   "cell_type": "code",
   "execution_count": 122,
   "id": "da9abc8b",
   "metadata": {},
   "outputs": [],
   "source": [
    "# Separando dados de treinamento e teste\n",
    "X_train = X[:21]\n",
    "y_train = y[:21]\n",
    "X_test = X[21:]\n",
    "y_test = y[21:]"
   ]
  },
  {
   "cell_type": "code",
   "execution_count": 22,
   "id": "6a3298d7",
   "metadata": {},
   "outputs": [
    {
     "data": {
      "text/html": [
       "<style>#sk-container-id-2 {color: black;background-color: white;}#sk-container-id-2 pre{padding: 0;}#sk-container-id-2 div.sk-toggleable {background-color: white;}#sk-container-id-2 label.sk-toggleable__label {cursor: pointer;display: block;width: 100%;margin-bottom: 0;padding: 0.3em;box-sizing: border-box;text-align: center;}#sk-container-id-2 label.sk-toggleable__label-arrow:before {content: \"▸\";float: left;margin-right: 0.25em;color: #696969;}#sk-container-id-2 label.sk-toggleable__label-arrow:hover:before {color: black;}#sk-container-id-2 div.sk-estimator:hover label.sk-toggleable__label-arrow:before {color: black;}#sk-container-id-2 div.sk-toggleable__content {max-height: 0;max-width: 0;overflow: hidden;text-align: left;background-color: #f0f8ff;}#sk-container-id-2 div.sk-toggleable__content pre {margin: 0.2em;color: black;border-radius: 0.25em;background-color: #f0f8ff;}#sk-container-id-2 input.sk-toggleable__control:checked~div.sk-toggleable__content {max-height: 200px;max-width: 100%;overflow: auto;}#sk-container-id-2 input.sk-toggleable__control:checked~label.sk-toggleable__label-arrow:before {content: \"▾\";}#sk-container-id-2 div.sk-estimator input.sk-toggleable__control:checked~label.sk-toggleable__label {background-color: #d4ebff;}#sk-container-id-2 div.sk-label input.sk-toggleable__control:checked~label.sk-toggleable__label {background-color: #d4ebff;}#sk-container-id-2 input.sk-hidden--visually {border: 0;clip: rect(1px 1px 1px 1px);clip: rect(1px, 1px, 1px, 1px);height: 1px;margin: -1px;overflow: hidden;padding: 0;position: absolute;width: 1px;}#sk-container-id-2 div.sk-estimator {font-family: monospace;background-color: #f0f8ff;border: 1px dotted black;border-radius: 0.25em;box-sizing: border-box;margin-bottom: 0.5em;}#sk-container-id-2 div.sk-estimator:hover {background-color: #d4ebff;}#sk-container-id-2 div.sk-parallel-item::after {content: \"\";width: 100%;border-bottom: 1px solid gray;flex-grow: 1;}#sk-container-id-2 div.sk-label:hover label.sk-toggleable__label {background-color: #d4ebff;}#sk-container-id-2 div.sk-serial::before {content: \"\";position: absolute;border-left: 1px solid gray;box-sizing: border-box;top: 0;bottom: 0;left: 50%;z-index: 0;}#sk-container-id-2 div.sk-serial {display: flex;flex-direction: column;align-items: center;background-color: white;padding-right: 0.2em;padding-left: 0.2em;position: relative;}#sk-container-id-2 div.sk-item {position: relative;z-index: 1;}#sk-container-id-2 div.sk-parallel {display: flex;align-items: stretch;justify-content: center;background-color: white;position: relative;}#sk-container-id-2 div.sk-item::before, #sk-container-id-2 div.sk-parallel-item::before {content: \"\";position: absolute;border-left: 1px solid gray;box-sizing: border-box;top: 0;bottom: 0;left: 50%;z-index: -1;}#sk-container-id-2 div.sk-parallel-item {display: flex;flex-direction: column;z-index: 1;position: relative;background-color: white;}#sk-container-id-2 div.sk-parallel-item:first-child::after {align-self: flex-end;width: 50%;}#sk-container-id-2 div.sk-parallel-item:last-child::after {align-self: flex-start;width: 50%;}#sk-container-id-2 div.sk-parallel-item:only-child::after {width: 0;}#sk-container-id-2 div.sk-dashed-wrapped {border: 1px dashed gray;margin: 0 0.4em 0.5em 0.4em;box-sizing: border-box;padding-bottom: 0.4em;background-color: white;}#sk-container-id-2 div.sk-label label {font-family: monospace;font-weight: bold;display: inline-block;line-height: 1.2em;}#sk-container-id-2 div.sk-label-container {text-align: center;}#sk-container-id-2 div.sk-container {/* jupyter's `normalize.less` sets `[hidden] { display: none; }` but bootstrap.min.css set `[hidden] { display: none !important; }` so we also need the `!important` here to be able to override the default hidden behavior on the sphinx rendered scikit-learn.org. See: https://github.com/scikit-learn/scikit-learn/issues/21755 */display: inline-block !important;position: relative;}#sk-container-id-2 div.sk-text-repr-fallback {display: none;}</style><div id=\"sk-container-id-2\" class=\"sk-top-container\"><div class=\"sk-text-repr-fallback\"><pre>ZeroShotGPTClassifier()</pre><b>In a Jupyter environment, please rerun this cell to show the HTML representation or trust the notebook. <br />On GitHub, the HTML representation is unable to render, please try loading this page with nbviewer.org.</b></div><div class=\"sk-container\" hidden><div class=\"sk-item\"><div class=\"sk-estimator sk-toggleable\"><input class=\"sk-toggleable__control sk-hidden--visually\" id=\"sk-estimator-id-2\" type=\"checkbox\" checked><label for=\"sk-estimator-id-2\" class=\"sk-toggleable__label sk-toggleable__label-arrow\">ZeroShotGPTClassifier</label><div class=\"sk-toggleable__content\"><pre>ZeroShotGPTClassifier()</pre></div></div></div></div></div>"
      ],
      "text/plain": [
       "ZeroShotGPTClassifier()"
      ]
     },
     "execution_count": 22,
     "metadata": {},
     "output_type": "execute_result"
    }
   ],
   "source": [
    "# Definindo o modelo:\n",
    "clf = ZeroShotGPTClassifier(openai_model=\"gpt-3.5-turbo\")\n",
    "\n",
    "# Treinando o modelo com os dados: \n",
    "clf.fit(X_train,y_train)"
   ]
  },
  {
   "cell_type": "code",
   "execution_count": 23,
   "id": "cbf03c2f",
   "metadata": {},
   "outputs": [
    {
     "name": "stderr",
     "output_type": "stream",
     "text": [
      "100%|█████████████████████████████████████████████| 9/9 [00:09<00:00,  1.01s/it]\n"
     ]
    }
   ],
   "source": [
    "# Fazendo predições dos dados\n",
    "labels = clf.predict(X_test)"
   ]
  },
  {
   "cell_type": "code",
   "execution_count": 29,
   "id": "b368ba86",
   "metadata": {},
   "outputs": [],
   "source": [
    "# Função para comparação de resultados previstos e resultados reais: \n",
    "def compare_results(predict, y_test):\n",
    "    results = []\n",
    "    for index in range(len(predict)):\n",
    "        if predict[index] == y_test[index]:\n",
    "            results.append(True)\n",
    "        else:\n",
    "            results.append(False)\n",
    "    return results\n",
    "\n",
    "# Função para calculo da acurácia"
   ]
  },
  {
   "cell_type": "code",
   "execution_count": 30,
   "id": "d0ef17d8",
   "metadata": {
    "scrolled": false
   },
   "outputs": [],
   "source": [
    "results = compare_results(labels, y_test)"
   ]
  },
  {
   "cell_type": "code",
   "execution_count": 31,
   "id": "6b9b5da6",
   "metadata": {
    "scrolled": true
   },
   "outputs": [
    {
     "data": {
      "text/plain": [
       "[True, True, True, True, False, False, True, True, True]"
      ]
     },
     "execution_count": 31,
     "metadata": {},
     "output_type": "execute_result"
    }
   ],
   "source": [
    "results"
   ]
  },
  {
   "cell_type": "code",
   "execution_count": 39,
   "id": "9db2ea87",
   "metadata": {
    "scrolled": true
   },
   "outputs": [
    {
     "data": {
      "text/plain": [
       "0.7777777777777778"
      ]
     },
     "execution_count": 39,
     "metadata": {},
     "output_type": "execute_result"
    }
   ],
   "source": [
    "accuracy_score(y_test, labels)"
   ]
  },
  {
   "cell_type": "code",
   "execution_count": 47,
   "id": "dddb588e",
   "metadata": {
    "scrolled": false
   },
   "outputs": [
    {
     "name": "stderr",
     "output_type": "stream",
     "text": [
      "100%|█████████████████████████████████████████████| 1/1 [00:00<00:00,  1.12it/s]\n"
     ]
    },
    {
     "data": {
      "text/plain": [
       "['neutral']"
      ]
     },
     "execution_count": 47,
     "metadata": {},
     "output_type": "execute_result"
    }
   ],
   "source": [
    "clf.predict(['All the product are good, but I dont know how i am feeling about'])"
   ]
  },
  {
   "cell_type": "markdown",
   "id": "f54c5162",
   "metadata": {},
   "source": [
    "## Caso não contenha as frases sequenciadas com seus labels"
   ]
  },
  {
   "cell_type": "code",
   "execution_count": 89,
   "id": "9aad1e46",
   "metadata": {},
   "outputs": [],
   "source": [
    "X2, _ = get_classification_dataset()\n"
   ]
  },
  {
   "cell_type": "code",
   "execution_count": 90,
   "id": "9f8da2a2",
   "metadata": {},
   "outputs": [
    {
     "data": {
      "text/html": [
       "<style>#sk-container-id-10 {color: black;background-color: white;}#sk-container-id-10 pre{padding: 0;}#sk-container-id-10 div.sk-toggleable {background-color: white;}#sk-container-id-10 label.sk-toggleable__label {cursor: pointer;display: block;width: 100%;margin-bottom: 0;padding: 0.3em;box-sizing: border-box;text-align: center;}#sk-container-id-10 label.sk-toggleable__label-arrow:before {content: \"▸\";float: left;margin-right: 0.25em;color: #696969;}#sk-container-id-10 label.sk-toggleable__label-arrow:hover:before {color: black;}#sk-container-id-10 div.sk-estimator:hover label.sk-toggleable__label-arrow:before {color: black;}#sk-container-id-10 div.sk-toggleable__content {max-height: 0;max-width: 0;overflow: hidden;text-align: left;background-color: #f0f8ff;}#sk-container-id-10 div.sk-toggleable__content pre {margin: 0.2em;color: black;border-radius: 0.25em;background-color: #f0f8ff;}#sk-container-id-10 input.sk-toggleable__control:checked~div.sk-toggleable__content {max-height: 200px;max-width: 100%;overflow: auto;}#sk-container-id-10 input.sk-toggleable__control:checked~label.sk-toggleable__label-arrow:before {content: \"▾\";}#sk-container-id-10 div.sk-estimator input.sk-toggleable__control:checked~label.sk-toggleable__label {background-color: #d4ebff;}#sk-container-id-10 div.sk-label input.sk-toggleable__control:checked~label.sk-toggleable__label {background-color: #d4ebff;}#sk-container-id-10 input.sk-hidden--visually {border: 0;clip: rect(1px 1px 1px 1px);clip: rect(1px, 1px, 1px, 1px);height: 1px;margin: -1px;overflow: hidden;padding: 0;position: absolute;width: 1px;}#sk-container-id-10 div.sk-estimator {font-family: monospace;background-color: #f0f8ff;border: 1px dotted black;border-radius: 0.25em;box-sizing: border-box;margin-bottom: 0.5em;}#sk-container-id-10 div.sk-estimator:hover {background-color: #d4ebff;}#sk-container-id-10 div.sk-parallel-item::after {content: \"\";width: 100%;border-bottom: 1px solid gray;flex-grow: 1;}#sk-container-id-10 div.sk-label:hover label.sk-toggleable__label {background-color: #d4ebff;}#sk-container-id-10 div.sk-serial::before {content: \"\";position: absolute;border-left: 1px solid gray;box-sizing: border-box;top: 0;bottom: 0;left: 50%;z-index: 0;}#sk-container-id-10 div.sk-serial {display: flex;flex-direction: column;align-items: center;background-color: white;padding-right: 0.2em;padding-left: 0.2em;position: relative;}#sk-container-id-10 div.sk-item {position: relative;z-index: 1;}#sk-container-id-10 div.sk-parallel {display: flex;align-items: stretch;justify-content: center;background-color: white;position: relative;}#sk-container-id-10 div.sk-item::before, #sk-container-id-10 div.sk-parallel-item::before {content: \"\";position: absolute;border-left: 1px solid gray;box-sizing: border-box;top: 0;bottom: 0;left: 50%;z-index: -1;}#sk-container-id-10 div.sk-parallel-item {display: flex;flex-direction: column;z-index: 1;position: relative;background-color: white;}#sk-container-id-10 div.sk-parallel-item:first-child::after {align-self: flex-end;width: 50%;}#sk-container-id-10 div.sk-parallel-item:last-child::after {align-self: flex-start;width: 50%;}#sk-container-id-10 div.sk-parallel-item:only-child::after {width: 0;}#sk-container-id-10 div.sk-dashed-wrapped {border: 1px dashed gray;margin: 0 0.4em 0.5em 0.4em;box-sizing: border-box;padding-bottom: 0.4em;background-color: white;}#sk-container-id-10 div.sk-label label {font-family: monospace;font-weight: bold;display: inline-block;line-height: 1.2em;}#sk-container-id-10 div.sk-label-container {text-align: center;}#sk-container-id-10 div.sk-container {/* jupyter's `normalize.less` sets `[hidden] { display: none; }` but bootstrap.min.css set `[hidden] { display: none !important; }` so we also need the `!important` here to be able to override the default hidden behavior on the sphinx rendered scikit-learn.org. See: https://github.com/scikit-learn/scikit-learn/issues/21755 */display: inline-block !important;position: relative;}#sk-container-id-10 div.sk-text-repr-fallback {display: none;}</style><div id=\"sk-container-id-10\" class=\"sk-top-container\"><div class=\"sk-text-repr-fallback\"><pre>ZeroShotGPTClassifier()</pre><b>In a Jupyter environment, please rerun this cell to show the HTML representation or trust the notebook. <br />On GitHub, the HTML representation is unable to render, please try loading this page with nbviewer.org.</b></div><div class=\"sk-container\" hidden><div class=\"sk-item\"><div class=\"sk-estimator sk-toggleable\"><input class=\"sk-toggleable__control sk-hidden--visually\" id=\"sk-estimator-id-10\" type=\"checkbox\" checked><label for=\"sk-estimator-id-10\" class=\"sk-toggleable__label sk-toggleable__label-arrow\">ZeroShotGPTClassifier</label><div class=\"sk-toggleable__content\"><pre>ZeroShotGPTClassifier()</pre></div></div></div></div></div>"
      ],
      "text/plain": [
       "ZeroShotGPTClassifier()"
      ]
     },
     "execution_count": 90,
     "metadata": {},
     "output_type": "execute_result"
    }
   ],
   "source": [
    "clf2 = ZeroShotGPTClassifier()\n",
    "clf2.fit(None,['positive', 'negative', 'neutral'])"
   ]
  },
  {
   "cell_type": "code",
   "execution_count": 91,
   "id": "17f900ca",
   "metadata": {},
   "outputs": [
    {
     "name": "stderr",
     "output_type": "stream",
     "text": [
      "100%|███████████████████████████████████████████| 30/30 [00:24<00:00,  1.20it/s]\n"
     ]
    }
   ],
   "source": [
    "labels2 = clf.predict(X2)"
   ]
  },
  {
   "cell_type": "code",
   "execution_count": 95,
   "id": "a0d3e18c",
   "metadata": {},
   "outputs": [
    {
     "data": {
      "text/plain": [
       "0.9"
      ]
     },
     "execution_count": 95,
     "metadata": {},
     "output_type": "execute_result"
    }
   ],
   "source": [
    "accuracy_score(y, labels2)"
   ]
  },
  {
   "cell_type": "markdown",
   "id": "6fb12619",
   "metadata": {},
   "source": [
    "Podemos treinar um classificador sem dados explicitamente rotulados, simplesmente especificando os rótulos potenciais. "
   ]
  },
  {
   "cell_type": "markdown",
   "id": "a140f19d",
   "metadata": {},
   "source": [
    "# Treinamento de multi-label\n"
   ]
  },
  {
   "cell_type": "code",
   "execution_count": 64,
   "id": "1333a885",
   "metadata": {},
   "outputs": [],
   "source": [
    "# Carregando pacotes:\n",
    "from skllm import MultiLabelZeroShotGPTClassifier\n",
    "from skllm.datasets import get_multilabel_classification_dataset\n"
   ]
  },
  {
   "cell_type": "code",
   "execution_count": 65,
   "id": "7cc73623",
   "metadata": {},
   "outputs": [],
   "source": [
    "# Carregando dados: \n",
    "X3, y3 = get_multilabel_classification_dataset()\n"
   ]
  },
  {
   "cell_type": "code",
   "execution_count": 66,
   "id": "200d9017",
   "metadata": {
    "scrolled": true
   },
   "outputs": [
    {
     "data": {
      "text/plain": [
       "['The product was of excellent quality, and the packaging was also very good. Highly recommend!',\n",
       " 'The delivery was super fast, but the product did not match the information provided on the website.',\n",
       " 'Great variety of products, but the customer support was quite unresponsive.',\n",
       " 'Affordable prices and an easy-to-use website. A great shopping experience overall.',\n",
       " 'The delivery was delayed, and the packaging was damaged. Not a good experience.',\n",
       " 'Excellent customer support, but the return policy is quite complicated.',\n",
       " 'The product was not as described. However, the return process was easy and quick.',\n",
       " 'Great service and fast delivery. The product was also of high quality.',\n",
       " 'The prices are a bit high. However, the product quality and user experience are worth it.',\n",
       " 'The website provides detailed information about products. The delivery was also very fast.']"
      ]
     },
     "execution_count": 66,
     "metadata": {},
     "output_type": "execute_result"
    }
   ],
   "source": [
    "X3"
   ]
  },
  {
   "cell_type": "code",
   "execution_count": 67,
   "id": "8e8b320d",
   "metadata": {
    "scrolled": false
   },
   "outputs": [
    {
     "data": {
      "text/plain": [
       "[['Quality', 'Packaging'],\n",
       " ['Delivery', 'Product Information'],\n",
       " ['Product Variety', 'Customer Support'],\n",
       " ['Price', 'User Experience'],\n",
       " ['Delivery', 'Packaging'],\n",
       " ['Customer Support', 'Return Policy'],\n",
       " ['Product Information', 'Return Policy'],\n",
       " ['Service', 'Delivery', 'Quality'],\n",
       " ['Price', 'Quality', 'User Experience'],\n",
       " ['Product Information', 'Delivery']]"
      ]
     },
     "execution_count": 67,
     "metadata": {},
     "output_type": "execute_result"
    }
   ],
   "source": [
    "y3"
   ]
  },
  {
   "cell_type": "code",
   "execution_count": 72,
   "id": "029389b1",
   "metadata": {},
   "outputs": [],
   "source": [
    "# Definindo o modelo:\n",
    "clf3 = MultiLabelZeroShotGPTClassifier(max_labels=2)"
   ]
  },
  {
   "cell_type": "code",
   "execution_count": 73,
   "id": "287a3d18",
   "metadata": {},
   "outputs": [
    {
     "data": {
      "text/html": [
       "<style>#sk-container-id-6 {color: black;background-color: white;}#sk-container-id-6 pre{padding: 0;}#sk-container-id-6 div.sk-toggleable {background-color: white;}#sk-container-id-6 label.sk-toggleable__label {cursor: pointer;display: block;width: 100%;margin-bottom: 0;padding: 0.3em;box-sizing: border-box;text-align: center;}#sk-container-id-6 label.sk-toggleable__label-arrow:before {content: \"▸\";float: left;margin-right: 0.25em;color: #696969;}#sk-container-id-6 label.sk-toggleable__label-arrow:hover:before {color: black;}#sk-container-id-6 div.sk-estimator:hover label.sk-toggleable__label-arrow:before {color: black;}#sk-container-id-6 div.sk-toggleable__content {max-height: 0;max-width: 0;overflow: hidden;text-align: left;background-color: #f0f8ff;}#sk-container-id-6 div.sk-toggleable__content pre {margin: 0.2em;color: black;border-radius: 0.25em;background-color: #f0f8ff;}#sk-container-id-6 input.sk-toggleable__control:checked~div.sk-toggleable__content {max-height: 200px;max-width: 100%;overflow: auto;}#sk-container-id-6 input.sk-toggleable__control:checked~label.sk-toggleable__label-arrow:before {content: \"▾\";}#sk-container-id-6 div.sk-estimator input.sk-toggleable__control:checked~label.sk-toggleable__label {background-color: #d4ebff;}#sk-container-id-6 div.sk-label input.sk-toggleable__control:checked~label.sk-toggleable__label {background-color: #d4ebff;}#sk-container-id-6 input.sk-hidden--visually {border: 0;clip: rect(1px 1px 1px 1px);clip: rect(1px, 1px, 1px, 1px);height: 1px;margin: -1px;overflow: hidden;padding: 0;position: absolute;width: 1px;}#sk-container-id-6 div.sk-estimator {font-family: monospace;background-color: #f0f8ff;border: 1px dotted black;border-radius: 0.25em;box-sizing: border-box;margin-bottom: 0.5em;}#sk-container-id-6 div.sk-estimator:hover {background-color: #d4ebff;}#sk-container-id-6 div.sk-parallel-item::after {content: \"\";width: 100%;border-bottom: 1px solid gray;flex-grow: 1;}#sk-container-id-6 div.sk-label:hover label.sk-toggleable__label {background-color: #d4ebff;}#sk-container-id-6 div.sk-serial::before {content: \"\";position: absolute;border-left: 1px solid gray;box-sizing: border-box;top: 0;bottom: 0;left: 50%;z-index: 0;}#sk-container-id-6 div.sk-serial {display: flex;flex-direction: column;align-items: center;background-color: white;padding-right: 0.2em;padding-left: 0.2em;position: relative;}#sk-container-id-6 div.sk-item {position: relative;z-index: 1;}#sk-container-id-6 div.sk-parallel {display: flex;align-items: stretch;justify-content: center;background-color: white;position: relative;}#sk-container-id-6 div.sk-item::before, #sk-container-id-6 div.sk-parallel-item::before {content: \"\";position: absolute;border-left: 1px solid gray;box-sizing: border-box;top: 0;bottom: 0;left: 50%;z-index: -1;}#sk-container-id-6 div.sk-parallel-item {display: flex;flex-direction: column;z-index: 1;position: relative;background-color: white;}#sk-container-id-6 div.sk-parallel-item:first-child::after {align-self: flex-end;width: 50%;}#sk-container-id-6 div.sk-parallel-item:last-child::after {align-self: flex-start;width: 50%;}#sk-container-id-6 div.sk-parallel-item:only-child::after {width: 0;}#sk-container-id-6 div.sk-dashed-wrapped {border: 1px dashed gray;margin: 0 0.4em 0.5em 0.4em;box-sizing: border-box;padding-bottom: 0.4em;background-color: white;}#sk-container-id-6 div.sk-label label {font-family: monospace;font-weight: bold;display: inline-block;line-height: 1.2em;}#sk-container-id-6 div.sk-label-container {text-align: center;}#sk-container-id-6 div.sk-container {/* jupyter's `normalize.less` sets `[hidden] { display: none; }` but bootstrap.min.css set `[hidden] { display: none !important; }` so we also need the `!important` here to be able to override the default hidden behavior on the sphinx rendered scikit-learn.org. See: https://github.com/scikit-learn/scikit-learn/issues/21755 */display: inline-block !important;position: relative;}#sk-container-id-6 div.sk-text-repr-fallback {display: none;}</style><div id=\"sk-container-id-6\" class=\"sk-top-container\"><div class=\"sk-text-repr-fallback\"><pre>MultiLabelZeroShotGPTClassifier(max_labels=2)</pre><b>In a Jupyter environment, please rerun this cell to show the HTML representation or trust the notebook. <br />On GitHub, the HTML representation is unable to render, please try loading this page with nbviewer.org.</b></div><div class=\"sk-container\" hidden><div class=\"sk-item\"><div class=\"sk-estimator sk-toggleable\"><input class=\"sk-toggleable__control sk-hidden--visually\" id=\"sk-estimator-id-6\" type=\"checkbox\" checked><label for=\"sk-estimator-id-6\" class=\"sk-toggleable__label sk-toggleable__label-arrow\">MultiLabelZeroShotGPTClassifier</label><div class=\"sk-toggleable__content\"><pre>MultiLabelZeroShotGPTClassifier(max_labels=2)</pre></div></div></div></div></div>"
      ],
      "text/plain": [
       "MultiLabelZeroShotGPTClassifier(max_labels=2)"
      ]
     },
     "execution_count": 73,
     "metadata": {},
     "output_type": "execute_result"
    }
   ],
   "source": [
    "# Treinando o modelo:\n",
    "clf3.fit(X3,y3)"
   ]
  },
  {
   "cell_type": "code",
   "execution_count": 74,
   "id": "680a69cb",
   "metadata": {},
   "outputs": [
    {
     "name": "stderr",
     "output_type": "stream",
     "text": [
      "100%|███████████████████████████████████████████| 10/10 [00:10<00:00,  1.02s/it]\n"
     ]
    }
   ],
   "source": [
    "labels3 = clf3.predict(X3)"
   ]
  },
  {
   "cell_type": "code",
   "execution_count": 75,
   "id": "81d0a01b",
   "metadata": {},
   "outputs": [
    {
     "data": {
      "text/plain": [
       "[['Quality', 'Packaging'],\n",
       " ['Delivery', 'Product Information'],\n",
       " ['Product Variety', 'Customer Support'],\n",
       " ['Price', 'User Experience'],\n",
       " ['Delivery', 'Packaging'],\n",
       " ['Customer Support', 'Return Policy'],\n",
       " ['Product Information', 'Return Policy'],\n",
       " ['Delivery', 'Quality'],\n",
       " ['Price', 'Quality'],\n",
       " ['Product Information', 'Delivery']]"
      ]
     },
     "execution_count": 75,
     "metadata": {},
     "output_type": "execute_result"
    }
   ],
   "source": [
    "labels3"
   ]
  },
  {
   "cell_type": "markdown",
   "id": "426d135a",
   "metadata": {},
   "source": [
    "## Caso que não contém os multi-labels definidos: "
   ]
  },
  {
   "cell_type": "code",
   "execution_count": 76,
   "id": "b465b8e3",
   "metadata": {},
   "outputs": [],
   "source": [
    "X3, _ = get_multilabel_classification_dataset()\n"
   ]
  },
  {
   "cell_type": "code",
   "execution_count": 77,
   "id": "ff309b67",
   "metadata": {},
   "outputs": [],
   "source": [
    "# Definindo os labels em potencial para serem previstos:\n",
    "candidate_labels = [\n",
    "    \"Quality\",\n",
    "    \"Price\",\n",
    "    \"Delivery\",\n",
    "    \"Service\",\n",
    "    \"Product Variety\"\n",
    "]"
   ]
  },
  {
   "cell_type": "code",
   "execution_count": 83,
   "id": "e68c389d",
   "metadata": {},
   "outputs": [
    {
     "data": {
      "text/html": [
       "<style>#sk-container-id-8 {color: black;background-color: white;}#sk-container-id-8 pre{padding: 0;}#sk-container-id-8 div.sk-toggleable {background-color: white;}#sk-container-id-8 label.sk-toggleable__label {cursor: pointer;display: block;width: 100%;margin-bottom: 0;padding: 0.3em;box-sizing: border-box;text-align: center;}#sk-container-id-8 label.sk-toggleable__label-arrow:before {content: \"▸\";float: left;margin-right: 0.25em;color: #696969;}#sk-container-id-8 label.sk-toggleable__label-arrow:hover:before {color: black;}#sk-container-id-8 div.sk-estimator:hover label.sk-toggleable__label-arrow:before {color: black;}#sk-container-id-8 div.sk-toggleable__content {max-height: 0;max-width: 0;overflow: hidden;text-align: left;background-color: #f0f8ff;}#sk-container-id-8 div.sk-toggleable__content pre {margin: 0.2em;color: black;border-radius: 0.25em;background-color: #f0f8ff;}#sk-container-id-8 input.sk-toggleable__control:checked~div.sk-toggleable__content {max-height: 200px;max-width: 100%;overflow: auto;}#sk-container-id-8 input.sk-toggleable__control:checked~label.sk-toggleable__label-arrow:before {content: \"▾\";}#sk-container-id-8 div.sk-estimator input.sk-toggleable__control:checked~label.sk-toggleable__label {background-color: #d4ebff;}#sk-container-id-8 div.sk-label input.sk-toggleable__control:checked~label.sk-toggleable__label {background-color: #d4ebff;}#sk-container-id-8 input.sk-hidden--visually {border: 0;clip: rect(1px 1px 1px 1px);clip: rect(1px, 1px, 1px, 1px);height: 1px;margin: -1px;overflow: hidden;padding: 0;position: absolute;width: 1px;}#sk-container-id-8 div.sk-estimator {font-family: monospace;background-color: #f0f8ff;border: 1px dotted black;border-radius: 0.25em;box-sizing: border-box;margin-bottom: 0.5em;}#sk-container-id-8 div.sk-estimator:hover {background-color: #d4ebff;}#sk-container-id-8 div.sk-parallel-item::after {content: \"\";width: 100%;border-bottom: 1px solid gray;flex-grow: 1;}#sk-container-id-8 div.sk-label:hover label.sk-toggleable__label {background-color: #d4ebff;}#sk-container-id-8 div.sk-serial::before {content: \"\";position: absolute;border-left: 1px solid gray;box-sizing: border-box;top: 0;bottom: 0;left: 50%;z-index: 0;}#sk-container-id-8 div.sk-serial {display: flex;flex-direction: column;align-items: center;background-color: white;padding-right: 0.2em;padding-left: 0.2em;position: relative;}#sk-container-id-8 div.sk-item {position: relative;z-index: 1;}#sk-container-id-8 div.sk-parallel {display: flex;align-items: stretch;justify-content: center;background-color: white;position: relative;}#sk-container-id-8 div.sk-item::before, #sk-container-id-8 div.sk-parallel-item::before {content: \"\";position: absolute;border-left: 1px solid gray;box-sizing: border-box;top: 0;bottom: 0;left: 50%;z-index: -1;}#sk-container-id-8 div.sk-parallel-item {display: flex;flex-direction: column;z-index: 1;position: relative;background-color: white;}#sk-container-id-8 div.sk-parallel-item:first-child::after {align-self: flex-end;width: 50%;}#sk-container-id-8 div.sk-parallel-item:last-child::after {align-self: flex-start;width: 50%;}#sk-container-id-8 div.sk-parallel-item:only-child::after {width: 0;}#sk-container-id-8 div.sk-dashed-wrapped {border: 1px dashed gray;margin: 0 0.4em 0.5em 0.4em;box-sizing: border-box;padding-bottom: 0.4em;background-color: white;}#sk-container-id-8 div.sk-label label {font-family: monospace;font-weight: bold;display: inline-block;line-height: 1.2em;}#sk-container-id-8 div.sk-label-container {text-align: center;}#sk-container-id-8 div.sk-container {/* jupyter's `normalize.less` sets `[hidden] { display: none; }` but bootstrap.min.css set `[hidden] { display: none !important; }` so we also need the `!important` here to be able to override the default hidden behavior on the sphinx rendered scikit-learn.org. See: https://github.com/scikit-learn/scikit-learn/issues/21755 */display: inline-block !important;position: relative;}#sk-container-id-8 div.sk-text-repr-fallback {display: none;}</style><div id=\"sk-container-id-8\" class=\"sk-top-container\"><div class=\"sk-text-repr-fallback\"><pre>MultiLabelZeroShotGPTClassifier()</pre><b>In a Jupyter environment, please rerun this cell to show the HTML representation or trust the notebook. <br />On GitHub, the HTML representation is unable to render, please try loading this page with nbviewer.org.</b></div><div class=\"sk-container\" hidden><div class=\"sk-item\"><div class=\"sk-estimator sk-toggleable\"><input class=\"sk-toggleable__control sk-hidden--visually\" id=\"sk-estimator-id-8\" type=\"checkbox\" checked><label for=\"sk-estimator-id-8\" class=\"sk-toggleable__label sk-toggleable__label-arrow\">MultiLabelZeroShotGPTClassifier</label><div class=\"sk-toggleable__content\"><pre>MultiLabelZeroShotGPTClassifier()</pre></div></div></div></div></div>"
      ],
      "text/plain": [
       "MultiLabelZeroShotGPTClassifier()"
      ]
     },
     "execution_count": 83,
     "metadata": {},
     "output_type": "execute_result"
    }
   ],
   "source": [
    "# Criando o modelo:\n",
    "clf3 = MultiLabelZeroShotGPTClassifier(max_labels=3)\n",
    "\n",
    "# Treinamento\n",
    "clf3.fit(None, [candidate_labels])"
   ]
  },
  {
   "cell_type": "code",
   "execution_count": 84,
   "id": "a9aaa51e",
   "metadata": {},
   "outputs": [
    {
     "name": "stderr",
     "output_type": "stream",
     "text": [
      "100%|███████████████████████████████████████████| 10/10 [00:09<00:00,  1.04it/s]\n"
     ]
    }
   ],
   "source": [
    "labels3 = clf3.predict(X3)"
   ]
  },
  {
   "cell_type": "code",
   "execution_count": 85,
   "id": "7b92aa61",
   "metadata": {},
   "outputs": [
    {
     "data": {
      "text/plain": [
       "[['Quality', 'Packaging'],\n",
       " ['Delivery', 'Product Information'],\n",
       " ['Product Variety', 'Customer Support'],\n",
       " ['Price', 'User Experience'],\n",
       " ['Delivery', 'Packaging'],\n",
       " ['Customer Support', 'Return Policy'],\n",
       " ['Product Information', 'Return Policy'],\n",
       " ['Service', 'Delivery', 'Quality'],\n",
       " ['Price', 'Quality', 'User Experience'],\n",
       " ['Product Information', 'Delivery']]"
      ]
     },
     "execution_count": 85,
     "metadata": {},
     "output_type": "execute_result"
    }
   ],
   "source": [
    "y3"
   ]
  },
  {
   "cell_type": "code",
   "execution_count": 86,
   "id": "42271bcd",
   "metadata": {},
   "outputs": [
    {
     "data": {
      "text/plain": [
       "[['Quality'],\n",
       " ['Delivery'],\n",
       " ['Product Variety', 'Service'],\n",
       " ['Price', 'Service'],\n",
       " ['Delivery', 'Quality'],\n",
       " ['Service'],\n",
       " ['Quality', 'Service'],\n",
       " ['Service', 'Delivery', 'Quality'],\n",
       " ['Quality', 'Price'],\n",
       " ['Product Variety', 'Delivery']]"
      ]
     },
     "execution_count": 86,
     "metadata": {},
     "output_type": "execute_result"
    }
   ],
   "source": [
    "labels3"
   ]
  },
  {
   "cell_type": "markdown",
   "id": "67d7db67",
   "metadata": {},
   "source": [
    "## Text Vectorization\n",
    "\n",
    "Vetorização de texto é um processo de conversão dos textos em números para posteriores análises. "
   ]
  },
  {
   "cell_type": "code",
   "execution_count": 102,
   "id": "787657be",
   "metadata": {},
   "outputs": [],
   "source": [
    "from skllm.preprocessing import GPTVectorizer\n"
   ]
  },
  {
   "cell_type": "code",
   "execution_count": 103,
   "id": "fb61d54b",
   "metadata": {},
   "outputs": [],
   "source": [
    "# Definindo o modelo\n",
    "model = GPTVectorizer()\n"
   ]
  },
  {
   "cell_type": "code",
   "execution_count": 104,
   "id": "994d5e7f",
   "metadata": {
    "scrolled": true
   },
   "outputs": [
    {
     "name": "stderr",
     "output_type": "stream",
     "text": [
      "100%|███████████████████████████████████████████| 30/30 [00:13<00:00,  2.21it/s]\n"
     ]
    }
   ],
   "source": [
    "# Fazendo a transformação (Vetorização de texto):\n",
    "vectors = model.fit_transform(X)"
   ]
  },
  {
   "cell_type": "code",
   "execution_count": 105,
   "id": "50e72453",
   "metadata": {
    "scrolled": true
   },
   "outputs": [
    {
     "data": {
      "text/plain": [
       "array([[-1.08071305e-02,  8.25319032e-04,  6.32961188e-03, ...,\n",
       "        -1.49337249e-02, -7.62059426e-05, -4.83753905e-02],\n",
       "       [-7.46790506e-03, -1.57088041e-02, -1.33570693e-02, ...,\n",
       "        -1.55908894e-02, -1.83553249e-02, -3.60293686e-02],\n",
       "       [ 7.93671049e-03, -1.18406452e-02,  1.95840914e-02, ...,\n",
       "         4.15195618e-03, -1.71231963e-02, -3.01491935e-02],\n",
       "       ...,\n",
       "       [-6.81832340e-03, -1.20293340e-02,  1.34453001e-02, ...,\n",
       "        -3.72488401e-03, -9.90538485e-03, -2.87530422e-02],\n",
       "       [-1.88294612e-02, -2.02019094e-03,  1.10821901e-02, ...,\n",
       "        -1.68541633e-02, -1.12681761e-02, -1.94066595e-02],\n",
       "       [-2.28717495e-02, -6.95682364e-03,  1.82211604e-02, ...,\n",
       "        -3.40789035e-02, -2.81830765e-02, -1.62643548e-02]])"
      ]
     },
     "execution_count": 105,
     "metadata": {},
     "output_type": "execute_result"
    }
   ],
   "source": [
    "vectors"
   ]
  },
  {
   "cell_type": "markdown",
   "id": "fb67c4b0",
   "metadata": {},
   "source": [
    "Aplicando a função fit_transform() acima, o modelo GPTVectorizer() transforma as frases em vetores numéricos com dimensões fixas. Esses vetores podem ser utilizados para outras integrações. Como exemplo abaixo realizando uma integração com o classificador XGBoost. "
   ]
  },
  {
   "cell_type": "code",
   "execution_count": 108,
   "id": "d7b81a76",
   "metadata": {},
   "outputs": [],
   "source": [
    "# Importanto pacotes: \n",
    "from sklearn.pipeline import Pipeline\n",
    "from sklearn.preprocessing import LabelEncoder\n",
    "from xgboost import XGBClassifier"
   ]
  },
  {
   "cell_type": "code",
   "execution_count": 123,
   "id": "e76adc97",
   "metadata": {},
   "outputs": [],
   "source": [
    "# Criando uma instancia para a classe Label Encoder\n",
    "le = LabelEncoder()\n",
    "\n",
    "# Fazendo o encoding para os dados de treinamento, y_train: \n",
    "y_train_encoded = le.fit_transform(y_train)\n",
    "\n",
    "# Fazendo o encoding para os dados de teste, y_test:\n",
    "y_test_encoded = le.transform(y_test)"
   ]
  },
  {
   "cell_type": "code",
   "execution_count": 124,
   "id": "51404efa",
   "metadata": {},
   "outputs": [],
   "source": [
    "# Definindo a lista de execuções do pipeline\n",
    "steps = [('GPT', GPTVectorizer()),\n",
    "         ('Clf', XGBClassifier())]"
   ]
  },
  {
   "cell_type": "code",
   "execution_count": 125,
   "id": "0ac0ea92",
   "metadata": {},
   "outputs": [
    {
     "name": "stderr",
     "output_type": "stream",
     "text": [
      "100%|███████████████████████████████████████████| 21/21 [00:08<00:00,  2.37it/s]\n"
     ]
    },
    {
     "data": {
      "text/html": [
       "<style>#sk-container-id-12 {color: black;background-color: white;}#sk-container-id-12 pre{padding: 0;}#sk-container-id-12 div.sk-toggleable {background-color: white;}#sk-container-id-12 label.sk-toggleable__label {cursor: pointer;display: block;width: 100%;margin-bottom: 0;padding: 0.3em;box-sizing: border-box;text-align: center;}#sk-container-id-12 label.sk-toggleable__label-arrow:before {content: \"▸\";float: left;margin-right: 0.25em;color: #696969;}#sk-container-id-12 label.sk-toggleable__label-arrow:hover:before {color: black;}#sk-container-id-12 div.sk-estimator:hover label.sk-toggleable__label-arrow:before {color: black;}#sk-container-id-12 div.sk-toggleable__content {max-height: 0;max-width: 0;overflow: hidden;text-align: left;background-color: #f0f8ff;}#sk-container-id-12 div.sk-toggleable__content pre {margin: 0.2em;color: black;border-radius: 0.25em;background-color: #f0f8ff;}#sk-container-id-12 input.sk-toggleable__control:checked~div.sk-toggleable__content {max-height: 200px;max-width: 100%;overflow: auto;}#sk-container-id-12 input.sk-toggleable__control:checked~label.sk-toggleable__label-arrow:before {content: \"▾\";}#sk-container-id-12 div.sk-estimator input.sk-toggleable__control:checked~label.sk-toggleable__label {background-color: #d4ebff;}#sk-container-id-12 div.sk-label input.sk-toggleable__control:checked~label.sk-toggleable__label {background-color: #d4ebff;}#sk-container-id-12 input.sk-hidden--visually {border: 0;clip: rect(1px 1px 1px 1px);clip: rect(1px, 1px, 1px, 1px);height: 1px;margin: -1px;overflow: hidden;padding: 0;position: absolute;width: 1px;}#sk-container-id-12 div.sk-estimator {font-family: monospace;background-color: #f0f8ff;border: 1px dotted black;border-radius: 0.25em;box-sizing: border-box;margin-bottom: 0.5em;}#sk-container-id-12 div.sk-estimator:hover {background-color: #d4ebff;}#sk-container-id-12 div.sk-parallel-item::after {content: \"\";width: 100%;border-bottom: 1px solid gray;flex-grow: 1;}#sk-container-id-12 div.sk-label:hover label.sk-toggleable__label {background-color: #d4ebff;}#sk-container-id-12 div.sk-serial::before {content: \"\";position: absolute;border-left: 1px solid gray;box-sizing: border-box;top: 0;bottom: 0;left: 50%;z-index: 0;}#sk-container-id-12 div.sk-serial {display: flex;flex-direction: column;align-items: center;background-color: white;padding-right: 0.2em;padding-left: 0.2em;position: relative;}#sk-container-id-12 div.sk-item {position: relative;z-index: 1;}#sk-container-id-12 div.sk-parallel {display: flex;align-items: stretch;justify-content: center;background-color: white;position: relative;}#sk-container-id-12 div.sk-item::before, #sk-container-id-12 div.sk-parallel-item::before {content: \"\";position: absolute;border-left: 1px solid gray;box-sizing: border-box;top: 0;bottom: 0;left: 50%;z-index: -1;}#sk-container-id-12 div.sk-parallel-item {display: flex;flex-direction: column;z-index: 1;position: relative;background-color: white;}#sk-container-id-12 div.sk-parallel-item:first-child::after {align-self: flex-end;width: 50%;}#sk-container-id-12 div.sk-parallel-item:last-child::after {align-self: flex-start;width: 50%;}#sk-container-id-12 div.sk-parallel-item:only-child::after {width: 0;}#sk-container-id-12 div.sk-dashed-wrapped {border: 1px dashed gray;margin: 0 0.4em 0.5em 0.4em;box-sizing: border-box;padding-bottom: 0.4em;background-color: white;}#sk-container-id-12 div.sk-label label {font-family: monospace;font-weight: bold;display: inline-block;line-height: 1.2em;}#sk-container-id-12 div.sk-label-container {text-align: center;}#sk-container-id-12 div.sk-container {/* jupyter's `normalize.less` sets `[hidden] { display: none; }` but bootstrap.min.css set `[hidden] { display: none !important; }` so we also need the `!important` here to be able to override the default hidden behavior on the sphinx rendered scikit-learn.org. See: https://github.com/scikit-learn/scikit-learn/issues/21755 */display: inline-block !important;position: relative;}#sk-container-id-12 div.sk-text-repr-fallback {display: none;}</style><div id=\"sk-container-id-12\" class=\"sk-top-container\"><div class=\"sk-text-repr-fallback\"><pre>Pipeline(steps=[(&#x27;GPT&#x27;, GPTVectorizer()),\n",
       "                (&#x27;Clf&#x27;,\n",
       "                 XGBClassifier(base_score=None, booster=None, callbacks=None,\n",
       "                               colsample_bylevel=None, colsample_bynode=None,\n",
       "                               colsample_bytree=None,\n",
       "                               early_stopping_rounds=None,\n",
       "                               enable_categorical=False, eval_metric=None,\n",
       "                               feature_types=None, gamma=None, gpu_id=None,\n",
       "                               grow_policy=None, importance_type=None,\n",
       "                               interaction_constraints=None, learning_rate=None,\n",
       "                               max_bin=None, max_cat_threshold=None,\n",
       "                               max_cat_to_onehot=None, max_delta_step=None,\n",
       "                               max_depth=None, max_leaves=None,\n",
       "                               min_child_weight=None, missing=nan,\n",
       "                               monotone_constraints=None, n_estimators=100,\n",
       "                               n_jobs=None, num_parallel_tree=None,\n",
       "                               objective=&#x27;multi:softprob&#x27;, predictor=None, ...))])</pre><b>In a Jupyter environment, please rerun this cell to show the HTML representation or trust the notebook. <br />On GitHub, the HTML representation is unable to render, please try loading this page with nbviewer.org.</b></div><div class=\"sk-container\" hidden><div class=\"sk-item sk-dashed-wrapped\"><div class=\"sk-label-container\"><div class=\"sk-label sk-toggleable\"><input class=\"sk-toggleable__control sk-hidden--visually\" id=\"sk-estimator-id-14\" type=\"checkbox\" ><label for=\"sk-estimator-id-14\" class=\"sk-toggleable__label sk-toggleable__label-arrow\">Pipeline</label><div class=\"sk-toggleable__content\"><pre>Pipeline(steps=[(&#x27;GPT&#x27;, GPTVectorizer()),\n",
       "                (&#x27;Clf&#x27;,\n",
       "                 XGBClassifier(base_score=None, booster=None, callbacks=None,\n",
       "                               colsample_bylevel=None, colsample_bynode=None,\n",
       "                               colsample_bytree=None,\n",
       "                               early_stopping_rounds=None,\n",
       "                               enable_categorical=False, eval_metric=None,\n",
       "                               feature_types=None, gamma=None, gpu_id=None,\n",
       "                               grow_policy=None, importance_type=None,\n",
       "                               interaction_constraints=None, learning_rate=None,\n",
       "                               max_bin=None, max_cat_threshold=None,\n",
       "                               max_cat_to_onehot=None, max_delta_step=None,\n",
       "                               max_depth=None, max_leaves=None,\n",
       "                               min_child_weight=None, missing=nan,\n",
       "                               monotone_constraints=None, n_estimators=100,\n",
       "                               n_jobs=None, num_parallel_tree=None,\n",
       "                               objective=&#x27;multi:softprob&#x27;, predictor=None, ...))])</pre></div></div></div><div class=\"sk-serial\"><div class=\"sk-item\"><div class=\"sk-estimator sk-toggleable\"><input class=\"sk-toggleable__control sk-hidden--visually\" id=\"sk-estimator-id-15\" type=\"checkbox\" ><label for=\"sk-estimator-id-15\" class=\"sk-toggleable__label sk-toggleable__label-arrow\">GPTVectorizer</label><div class=\"sk-toggleable__content\"><pre>GPTVectorizer()</pre></div></div></div><div class=\"sk-item\"><div class=\"sk-estimator sk-toggleable\"><input class=\"sk-toggleable__control sk-hidden--visually\" id=\"sk-estimator-id-16\" type=\"checkbox\" ><label for=\"sk-estimator-id-16\" class=\"sk-toggleable__label sk-toggleable__label-arrow\">XGBClassifier</label><div class=\"sk-toggleable__content\"><pre>XGBClassifier(base_score=None, booster=None, callbacks=None,\n",
       "              colsample_bylevel=None, colsample_bynode=None,\n",
       "              colsample_bytree=None, early_stopping_rounds=None,\n",
       "              enable_categorical=False, eval_metric=None, feature_types=None,\n",
       "              gamma=None, gpu_id=None, grow_policy=None, importance_type=None,\n",
       "              interaction_constraints=None, learning_rate=None, max_bin=None,\n",
       "              max_cat_threshold=None, max_cat_to_onehot=None,\n",
       "              max_delta_step=None, max_depth=None, max_leaves=None,\n",
       "              min_child_weight=None, missing=nan, monotone_constraints=None,\n",
       "              n_estimators=100, n_jobs=None, num_parallel_tree=None,\n",
       "              objective=&#x27;multi:softprob&#x27;, predictor=None, ...)</pre></div></div></div></div></div></div></div>"
      ],
      "text/plain": [
       "Pipeline(steps=[('GPT', GPTVectorizer()),\n",
       "                ('Clf',\n",
       "                 XGBClassifier(base_score=None, booster=None, callbacks=None,\n",
       "                               colsample_bylevel=None, colsample_bynode=None,\n",
       "                               colsample_bytree=None,\n",
       "                               early_stopping_rounds=None,\n",
       "                               enable_categorical=False, eval_metric=None,\n",
       "                               feature_types=None, gamma=None, gpu_id=None,\n",
       "                               grow_policy=None, importance_type=None,\n",
       "                               interaction_constraints=None, learning_rate=None,\n",
       "                               max_bin=None, max_cat_threshold=None,\n",
       "                               max_cat_to_onehot=None, max_delta_step=None,\n",
       "                               max_depth=None, max_leaves=None,\n",
       "                               min_child_weight=None, missing=nan,\n",
       "                               monotone_constraints=None, n_estimators=100,\n",
       "                               n_jobs=None, num_parallel_tree=None,\n",
       "                               objective='multi:softprob', predictor=None, ...))])"
      ]
     },
     "execution_count": 125,
     "metadata": {},
     "output_type": "execute_result"
    }
   ],
   "source": [
    "# Definindo o pipeline para os passos acima: \n",
    "clf = Pipeline(steps)\n",
    "\n",
    "# Realizando o treinamento\n",
    "clf.fit(X_train, y_train_encoded)"
   ]
  },
  {
   "cell_type": "code",
   "execution_count": 126,
   "id": "e9d59a8d",
   "metadata": {},
   "outputs": [
    {
     "name": "stderr",
     "output_type": "stream",
     "text": [
      "100%|█████████████████████████████████████████████| 9/9 [00:03<00:00,  2.90it/s]\n"
     ]
    }
   ],
   "source": [
    "# Fazendo as previsões: \n",
    "labels4 = clf.predict(X_test)"
   ]
  },
  {
   "cell_type": "code",
   "execution_count": 127,
   "id": "234a28e2",
   "metadata": {
    "scrolled": true
   },
   "outputs": [
    {
     "data": {
      "text/plain": [
       "0.2222222222222222"
      ]
     },
     "execution_count": 127,
     "metadata": {},
     "output_type": "execute_result"
    }
   ],
   "source": [
    "accuracy_score(y_test_encoded, labels4)"
   ]
  },
  {
   "cell_type": "code",
   "execution_count": 131,
   "id": "76d73612",
   "metadata": {
    "scrolled": true
   },
   "outputs": [
    {
     "data": {
      "text/plain": [
       "[\"'The Last Frontier' was simply okay. The plot was decent and the performances were acceptable. However, it lacked a certain spark to make it truly memorable.\",\n",
       " \"'Through the Storm' was not bad, but it wasn't great either. The storyline was somewhat predictable, and the characters were somewhat stereotypical. It was an average movie at best.\",\n",
       " \"I found 'After the Rain' to be pretty average. The plot was okay and the performances were decent, but it didn't leave a lasting impression on me.\",\n",
       " \"'Beyond the Horizon' was neither good nor bad. The plot was interesting enough, but the characters were not very well developed. It was an okay watch.\",\n",
       " \"'The Silent Echo' was a mediocre movie. The storyline was passable and the performances were fair, but it didn't stand out in any way.\",\n",
       " \"I thought 'The Scent of Roses' was pretty average. The plot was somewhat engaging, and the performances were okay, but it didn't live up to my expectations.\",\n",
       " \"'Under the Same Sky' was an okay movie. The plot was decent, and the performances were fine, but it lacked depth and originality. It's not a movie I would watch again.\",\n",
       " \"'Chasing Shadows' was fairly average. The plot was not bad, and the performances were passable, but it lacked a certain spark. It was just okay.\",\n",
       " \"'Beneath the Surface' was pretty run-of-the-mill. The plot was decent, the performances were okay, but it wasn't particularly memorable. It was an okay movie.\"]"
      ]
     },
     "execution_count": 131,
     "metadata": {},
     "output_type": "execute_result"
    }
   ],
   "source": [
    "X_test"
   ]
  },
  {
   "cell_type": "code",
   "execution_count": 134,
   "id": "5c4c5a92",
   "metadata": {
    "scrolled": false
   },
   "outputs": [
    {
     "data": {
      "text/plain": [
       "array([1, 1, 1, 1, 1, 1, 1, 1, 1])"
      ]
     },
     "execution_count": 134,
     "metadata": {},
     "output_type": "execute_result"
    }
   ],
   "source": [
    "y_test_encoded"
   ]
  },
  {
   "cell_type": "code",
   "execution_count": 133,
   "id": "5470b765",
   "metadata": {
    "scrolled": true
   },
   "outputs": [
    {
     "data": {
      "text/plain": [
       "array([2, 1, 2, 0, 2, 0, 0, 1, 0])"
      ]
     },
     "execution_count": 133,
     "metadata": {},
     "output_type": "execute_result"
    }
   ],
   "source": [
    "labels4"
   ]
  },
  {
   "cell_type": "markdown",
   "id": "7d8ee2fd",
   "metadata": {},
   "source": [
    "## Text Summarization\n",
    "\n",
    "A \"text summarization\" (em português, sumarização de texto) refere-se ao processo de encurtar um texto, mantendo as informações mais importantes e eliminando detalhes secundários ou redundantes, para produzir uma versão condensada que seja mais fácil e rápida de ler, mas que ainda transmita o essencial da mensagem original."
   ]
  },
  {
   "cell_type": "code",
   "execution_count": 7,
   "id": "3d9484a5",
   "metadata": {},
   "outputs": [],
   "source": [
    "# Importanto pacotes: \n",
    "from skllm.preprocessing import GPTSummarizer\n",
    "\n",
    "# Importanto dados\n",
    "from skllm.datasets import get_summarization_dataset"
   ]
  },
  {
   "cell_type": "code",
   "execution_count": 137,
   "id": "169ffbe3",
   "metadata": {},
   "outputs": [],
   "source": [
    "# Carregando os dados: \n",
    "X = get_summarization_dataset()"
   ]
  },
  {
   "cell_type": "code",
   "execution_count": 138,
   "id": "efc948b4",
   "metadata": {},
   "outputs": [
    {
     "data": {
      "text/plain": [
       "['The AI research company, OpenAI, has launched a new language model called GPT-4. This model is the latest in a series of transformer-based AI systems designed to perform complex tasks, such as generating human-like text, translating languages, and answering questions. According to OpenAI, GPT-4 is even more powerful and versatile than its predecessors.',\n",
       " 'John went to the grocery store in the morning to prepare for a small get-together at his house. He bought fresh apples, juicy oranges, and a bottle of milk. Once back home, he used the apples and oranges to make a delicious fruit salad, which he served to his guests in the evening.',\n",
       " 'The first Mars rover, named Sojourner, was launched by NASA in 1996. The mission was a part of the Mars Pathfinder project and was a major success. The data Sojourner provided about Martian terrain and atmosphere greatly contributed to our understanding of the Red Planet.',\n",
       " 'A new study suggests that regular exercise can improve memory and cognitive function in older adults. The study, which monitored the health and habits of 500 older adults, recommends 30 minutes of moderate exercise daily for the best results.',\n",
       " \"The Eiffel Tower, a globally recognized symbol of Paris and France, was completed in 1889 for the World's Fair. Despite its initial criticism and controversy over its unconventional design, the Eiffel Tower has become a beloved landmark and a symbol of French architectural innovation.\",\n",
       " 'Microsoft has announced a new version of its flagship operating system, Windows. The update, which will be rolled out later this year, features improved security protocols and a redesigned user interface, promising a more streamlined and safer user experience.',\n",
       " 'The WHO declared a new public health emergency due to an outbreak of a previously unknown virus. As the number of cases grows globally, the organization urges nations to ramp up their disease surveillance and response systems.',\n",
       " 'The 2024 Olympics have been confirmed to take place in Paris, France. This marks the third time the city will host the games, with previous occasions in 1900 and 1924. Preparations are already underway to make the event a grand spectacle.',\n",
       " 'Apple has introduced its latest iPhone model. The new device boasts a range of features, including an improved camera system, a faster processor, and a longer battery life. It is set to hit the market later this year.',\n",
       " 'Scientists working in the Amazon rainforest have discovered a new species of bird. The bird, characterized by its unique bright plumage, has created excitement among the global ornithological community.']"
      ]
     },
     "execution_count": 138,
     "metadata": {},
     "output_type": "execute_result"
    }
   ],
   "source": [
    "X"
   ]
  },
  {
   "cell_type": "code",
   "execution_count": 139,
   "id": "df420fe0",
   "metadata": {},
   "outputs": [],
   "source": [
    "# Definindo o modelo :\n",
    "summary = GPTSummarizer(openai_model='gpt-3.5-turbo', max_words=15)"
   ]
  },
  {
   "cell_type": "code",
   "execution_count": 140,
   "id": "84c1cdf9",
   "metadata": {},
   "outputs": [
    {
     "name": "stderr",
     "output_type": "stream",
     "text": [
      "100%|███████████████████████████████████████████| 10/10 [00:12<00:00,  1.24s/it]\n"
     ]
    }
   ],
   "source": [
    "# Aplicando o modelo aos dados:\n",
    "summaries = summary.fit_transform(X)"
   ]
  },
  {
   "cell_type": "code",
   "execution_count": 141,
   "id": "d4026d02",
   "metadata": {},
   "outputs": [
    {
     "data": {
      "text/plain": [
       "array(['OpenAI has released GPT-4, a powerful and versatile language model for complex tasks.',\n",
       "       'John bought groceries in the morning and made a fruit salad for his guests in the evening.',\n",
       "       \"NASA's first Mars rover, Sojourner, launched in 1996, greatly contributed to our understanding of the Red Planet.\",\n",
       "       'Regular exercise improves memory and cognitive function in older adults, recommends 30 minutes daily.',\n",
       "       'The Eiffel Tower, completed in 1889, is a beloved symbol of Paris and French architecture.',\n",
       "       'Microsoft announces new version of Windows with improved security and redesigned user interface.',\n",
       "       'WHO declares global public health emergency due to unknown virus outbreak, urges nations to strengthen response systems.',\n",
       "       \"Paris, France will host the 2024 Olympics, marking the city's third time hosting the games.\",\n",
       "       \"Apple's latest iPhone model features improved camera, faster processor, longer battery life, launching soon.\",\n",
       "       'New bird species found in Amazon rainforest with unique bright plumage, exciting ornithologists globally.'],\n",
       "      dtype=object)"
      ]
     },
     "execution_count": 141,
     "metadata": {},
     "output_type": "execute_result"
    }
   ],
   "source": [
    "summaries"
   ]
  },
  {
   "cell_type": "markdown",
   "id": "ffa41407",
   "metadata": {},
   "source": [
    "## Outros testes com o GPTSummarizer\n",
    "\n",
    "Textos retirados da cartilha sobre produção de batata doce embrapa: https://www.embrapa.br/documents/1355126/8971369/Sistema+de+Produ%C3%A7%C3%A3o+de+Batata-Doce.pdf/4632fe60-0c35-71af-79cc-7c15a01680c9"
   ]
  },
  {
   "cell_type": "code",
   "execution_count": 31,
   "id": "8b104e62",
   "metadata": {},
   "outputs": [
    {
     "name": "stderr",
     "output_type": "stream",
     "text": [
      "100%|█████████████████████████████████████████████| 1/1 [00:03<00:00,  3.88s/it]\n"
     ]
    },
    {
     "data": {
      "text/plain": [
       "array(['Root tuber formation in plants typically begins 4-6 weeks after planting, with favorable environmental conditions being crucial. After 8-12 weeks, no new tuber roots are formed, and energy is directed towards thickening existing roots.'],\n",
       "      dtype=object)"
      ]
     },
     "execution_count": 31,
     "metadata": {},
     "output_type": "execute_result"
    }
   ],
   "source": [
    "text = [\"\"\"\n",
    "A formação da raiz tuberosa pode começar quatro semanas após o plantio, embora o mais comum seja entre 4 a 6 semanas, dependendo da cultivar e das\n",
    "condições ambientais. A presença de condições ambientais favoráveis durante o primeiro mês após o plantio é de vital importância para o início da\n",
    "formação das raízes tuberosas. Sete semanas após o plantio, 80% das raízes tuberosas estarão formadas e entre 8 a 2 semanas após o plantio a planta\n",
    "deixará de formar novas raízes tuberosas. Depois disso, toda a energia é direcionada para o engrossamento das raízes tuberosas. Quando são formadas muitas raízes tuberosas por planta, normalmente o peso da raiz é baixo, enquanto poucas raízes por planta normalmente resultam em raízes maiores.\n",
    "\"\"\"]\n",
    "n_words = 20\n",
    "\n",
    "summary = GPTSummarizer(openai_model='gpt-3.5-turbo', max_words=n_words)\n",
    "summaries = summary.fit_transform(text)\n",
    "summaries"
   ]
  },
  {
   "cell_type": "code",
   "execution_count": null,
   "id": "93effb39",
   "metadata": {},
   "outputs": [],
   "source": []
  }
 ],
 "metadata": {
  "kernelspec": {
   "display_name": "Python 3 (ipykernel)",
   "language": "python",
   "name": "python3"
  },
  "language_info": {
   "codemirror_mode": {
    "name": "ipython",
    "version": 3
   },
   "file_extension": ".py",
   "mimetype": "text/x-python",
   "name": "python",
   "nbconvert_exporter": "python",
   "pygments_lexer": "ipython3",
   "version": "3.10.9"
  }
 },
 "nbformat": 4,
 "nbformat_minor": 5
}
